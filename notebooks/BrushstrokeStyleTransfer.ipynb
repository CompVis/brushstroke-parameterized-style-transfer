{
  "nbformat": 4,
  "nbformat_minor": 0,
  "metadata": {
    "accelerator": "GPU",
    "colab": {
      "name": "BrushstrokeStyleTransfer.ipynb",
      "provenance": [],
      "collapsed_sections": []
    },
    "kernelspec": {
      "display_name": "Python 3",
      "name": "python3"
    },
    "language_info": {
      "name": "python"
    }
  },
  "cells": [
    {
      "cell_type": "code",
      "metadata": {
        "id": "N80TrV4juOLV"
      },
      "source": [
        "!pip uninstall -y albumentations\n",
        "!pip install -U scikit-learn\n",
        "!pip install scikit-image==0.17.2"
      ],
      "execution_count": null,
      "outputs": []
    },
    {
      "cell_type": "markdown",
      "metadata": {
        "id": "WfavNAsehO_-"
      },
      "source": [
        "<h3>Ignore the error messages...</h3>"
      ]
    },
    {
      "cell_type": "code",
      "metadata": {
        "id": "d_gmUTe69NK2"
      },
      "source": [
        "!git clone https://github.com/CompVis/brushstroke-parameterized-style-transfer\n",
        "%cd brushstroke-parameterized-style-transfer"
      ],
      "execution_count": null,
      "outputs": []
    },
    {
      "cell_type": "code",
      "metadata": {
        "id": "Bg7ppjI48CuI"
      },
      "source": [
        "import os\n",
        "from google.colab import files\n",
        "import matplotlib.pyplot as plt\n",
        "import numpy as np\n",
        "from PIL import Image\n",
        "\n",
        "%tensorflow_version 1.x\n",
        "import tensorflow as tf\n",
        "tf.test.is_gpu_available()\n",
        "tf.__version__"
      ],
      "execution_count": null,
      "outputs": []
    },
    {
      "cell_type": "markdown",
      "metadata": {
        "id": "eHSa8q_ziWuc"
      },
      "source": [
        "<h1><b>Upload your own images</b></h1>"
      ]
    },
    {
      "cell_type": "code",
      "metadata": {
        "id": "EcaQJvqfieUw"
      },
      "source": [
        "uploaded = files.upload()\n",
        "\n",
        "for fn in uploaded.keys():\n",
        "    print('User uploaded file \"{name}\" with length {length} bytes'.format(\n",
        "        name=fn, length=len(uploaded[fn])))"
      ],
      "execution_count": null,
      "outputs": []
    },
    {
      "cell_type": "markdown",
      "metadata": {
        "id": "zlKwIBl8jeFc"
      },
      "source": [
        "<h1><b>Or choose from the available images</b></h1>\n"
      ]
    },
    {
      "cell_type": "markdown",
      "metadata": {
        "id": "ZY5Xnu5_oCor"
      },
      "source": [
        "<h2>Content Images<h2>"
      ]
    },
    {
      "cell_type": "code",
      "metadata": {
        "id": "KbrqOU0XjLgQ"
      },
      "source": [
        "content_images = os.listdir('images/content')\n",
        "print(content_images)\n",
        "\n",
        "fig, ax = plt.subplots(nrows=1, ncols=len(content_images), figsize=(30, 5))\n",
        "for i in range(len(content_images)):\n",
        "    img = Image.open(os.path.join('images/content/', content_images[i]))\n",
        "    ax[i].imshow(np.array(img))\n",
        "    ax[i].axis('off')\n",
        "    ax[i].title.set_text(content_images[i])"
      ],
      "execution_count": null,
      "outputs": []
    },
    {
      "cell_type": "markdown",
      "metadata": {
        "id": "UxzLXLvtpkVJ"
      },
      "source": [
        "<h2>Style Images<h2>\n"
      ]
    },
    {
      "cell_type": "code",
      "metadata": {
        "id": "SMeF9GzxoTIA"
      },
      "source": [
        "style_images = os.listdir('images/style')\n",
        "print(style_images)\n",
        "\n",
        "fig, ax = plt.subplots(nrows=1, ncols=len(style_images), figsize=(30, 5))\n",
        "for i in range(len(style_images)):\n",
        "    img = Image.open(os.path.join('images/style/', style_images[i]))\n",
        "    ax[i].imshow(np.array(img))\n",
        "    ax[i].axis('off')\n",
        "    ax[i].title.set_text(style_images[i])"
      ],
      "execution_count": null,
      "outputs": []
    },
    {
      "cell_type": "markdown",
      "metadata": {
        "id": "0AJJixL6rd5R"
      },
      "source": [
        "<h1><b>Load content and style images</b></h1>"
      ]
    },
    {
      "cell_type": "code",
      "metadata": {
        "id": "VRTmFFtjpq_W"
      },
      "source": [
        "# Note: for uploaded images, the prefix 'images/{content, style}' needs to be removed.\n",
        "# If you upload an image named 'uploaded_image.jpg', the path to use is also 'uploaded_image.jpg'.\n",
        "content_img = Image.open('images/content/golden_gate.jpg')\n",
        "style_img = Image.open('images/style/van_gogh_starry_night.jpg')\n",
        "\n",
        "fig, ax = plt.subplots(nrows=1, ncols=2, figsize=(15, 5))\n",
        "ax[0].imshow(np.array(content_img))\n",
        "ax[0].axis('off')\n",
        "ax[0].title.set_text('Content image')\n",
        "\n",
        "ax[1].imshow(np.array(style_img))\n",
        "ax[1].axis('off')\n",
        "ax[1].title.set_text('Style image')"
      ],
      "execution_count": null,
      "outputs": []
    },
    {
      "cell_type": "code",
      "metadata": {
        "id": "O5-H46Y0q_99"
      },
      "source": [
        "import model\n",
        "\n",
        "\n",
        "stylized_img = model.stylize(content_img,               # Content image (PIL.Image).\n",
        "                             style_img,                 # Style image (PIL.Image).\n",
        "                             num_strokes=5000,          # Number of brushstrokes (int). \n",
        "                             num_steps=100,             # Number of stroke optimization steps (int).\n",
        "                             canvas_color='gray',       # Color of the canvas (str). Options: 'gray', 'white', 'black', 'noise'\n",
        "                             width_scale=0.1,           # Scale parameter for the brushstroke width (float).\n",
        "                             length_scale=1.1,          # Scale parameter for the brushstroke length (float).\n",
        "                             content_weight=1.0,        # Weight for the content loss (float).\n",
        "                             style_weight=3.0,          # Weight for the style loss (float).\n",
        "                             tv_weight=0.008,           # Weight for the total variation loss (float). \n",
        "                             pixel_resolution=1024,     # Resolution of the canvas for pixel optimization (int).\n",
        "                             num_steps_pixel=2000)      # Number of pixel optimization steps (int).\n",
        "\n",
        "stylized_img.save('stylized.jpg')\n",
        "display(stylized_img)"
      ],
      "execution_count": null,
      "outputs": []
    }
  ]
}