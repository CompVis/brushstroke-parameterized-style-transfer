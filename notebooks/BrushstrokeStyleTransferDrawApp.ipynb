{
  "nbformat": 4,
  "nbformat_minor": 0,
  "metadata": {
    "colab": {
      "name": "BrushstrokeStyleTransferDrawApp.ipynb",
      "provenance": [],
      "collapsed_sections": []
    },
    "kernelspec": {
      "name": "python3",
      "display_name": "Python 3"
    },
    "language_info": {
      "name": "python"
    },
    "accelerator": "GPU"
  },
  "cells": [
    {
      "cell_type": "code",
      "metadata": {
        "id": "Yhv1eMzsHm5E"
      },
      "source": [
        "!pip uninstall -y datascience\n",
        "!pip install colab-everything\n",
        "!pip install streamlit-drawable-canvas\n",
        "!pip install -U scikit-learn\n",
        "!pip install scikit-image==0.17.2\n",
        "!pip install stqdm"
      ],
      "execution_count": null,
      "outputs": []
    },
    {
      "cell_type": "markdown",
      "metadata": {
        "id": "KZv5oLILZwZo"
      },
      "source": [
        "<h3>Ignore the error messages...</h3>"
      ]
    },
    {
      "cell_type": "code",
      "metadata": {
        "id": "elOYlKQ9Xz9X"
      },
      "source": [
        "!git clone https://github.com/CompVis/brushstroke-parameterized-style-transfer\n",
        "%cd brushstroke-parameterized-style-transfer"
      ],
      "execution_count": null,
      "outputs": []
    },
    {
      "cell_type": "markdown",
      "metadata": {
        "id": "vtKSiie6VW0V"
      },
      "source": [
        "<h1><b>Run app</b></h1>"
      ]
    },
    {
      "cell_type": "markdown",
      "metadata": {
        "id": "Iv_qmYLnVnLG"
      },
      "source": [
        "<h3>You have to click on the link that ends with \".ngrok.io\".\n",
        "\n",
        "</h3>"
      ]
    },
    {
      "cell_type": "code",
      "metadata": {
        "id": "JPZzcLolSZHj"
      },
      "source": [
        "%tensorflow_version 1.x\n",
        "import tensorflow as tf\n",
        "tf.test.is_gpu_available()\n",
        "tf.__version__\n",
        "\n",
        "from colab_everything import ColabStreamlit\n",
        "ColabStreamlit('app.py')"
      ],
      "execution_count": null,
      "outputs": []
    },
    {
      "cell_type": "code",
      "metadata": {
        "id": "jPA8BG9NKvd6"
      },
      "source": [
        ""
      ],
      "execution_count": null,
      "outputs": []
    },
    {
      "cell_type": "code",
      "metadata": {
        "id": "T8OQDcflKxQN"
      },
      "source": [
        ""
      ],
      "execution_count": null,
      "outputs": []
    },
    {
      "cell_type": "code",
      "metadata": {
        "id": "jXjSTak_K1bv"
      },
      "source": [
        ""
      ],
      "execution_count": null,
      "outputs": []
    }
  ]
}